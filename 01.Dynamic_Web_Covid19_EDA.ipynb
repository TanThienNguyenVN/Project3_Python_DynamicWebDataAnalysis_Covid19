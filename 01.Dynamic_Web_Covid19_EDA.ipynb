{
 "cells": [
  {
   "cell_type": "markdown",
   "id": "9614568a",
   "metadata": {},
   "source": [
    "### The Idea : Analyse Covid-19 Data by Age groups. \n",
    "- Step 0: Import Libraries and load data from data.gov.ie\n",
    "   \n",
    "- Step 1: Select only necessary columns and rows\n",
    "\n",
    "- Step 2: Clean data before transform to tidy data format\n",
    "\n",
    "- Step 3: Create two new columns storing Daily Confirmed Cases and Daily Hospitalised Cases\n",
    "\n",
    "- Step 4: Split the final dataset into two datasets, one for Hospitalised Cases and one for Confirmed Cases. Then, transform these datasets into tidy formats.\n",
    "\n",
    "- Step 5: Merge two tidy datasets\n",
    "\n",
    "- Step 6: The same idea as Step 3, but here, we need to create daily data column for each day for each age group because there is only cumulative data by date\n",
    "\n",
    "- Step 7: Merge all above datasets again\n",
    "\n",
    "- Step 8: Handling NaN values\n",
    "\n",
    "- Step 9: Export to csv file"
   ]
  },
  {
   "cell_type": "markdown",
   "id": "7e603596",
   "metadata": {},
   "source": [
    "#### Step 0. Import libraries and load data from data.gov.ie"
   ]
  },
  {
   "cell_type": "code",
   "execution_count": 1,
   "id": "baec66c1",
   "metadata": {},
   "outputs": [],
   "source": [
    "import pandas as pd\n",
    "import datetime as dt\n",
    "\n",
    "URL = \"https://opendata-geohive.hub.arcgis.com/datasets/d8eb52d56273413b84b0187a4e9117be_0.csv?outSR=%7B%22latestWkid%22%3A3857%2C%22wkid%22%3A102100%7D\"\n",
    "\n",
    "df = pd.read_csv(URL)\n",
    "\n",
    "df.StatisticsProfileDate = pd.to_datetime(df.StatisticsProfileDate)\n",
    "\n",
    "df = df.sort_values(by=\"StatisticsProfileDate\")\n"
   ]
  },
  {
   "cell_type": "markdown",
   "id": "414b3506",
   "metadata": {},
   "source": [
    "#### Based on updated information on https://data.gov.ie/dataset/covid-19-hpsc-detailed-statistics-profile:\n",
    "\n",
    "- The primary Date applies to:ConfirmedCovidCases, TotalConfirmedCovidCases, ConfirmedCovidDeaths, TotalCovidDeaths, ConfirmedCovidRecovered, TotalCovidRecovered. The StatisticProfileDate applies to the remaining fields. So, we will only filter out some necessary columns for Data Analysis.\n",
    "\n",
    "- Due to some technical issues over the Christmas period, updates of all detailed profile will be paused. So, we will only select data before 22 December, 2021 for Data Analysis"
   ]
  },
  {
   "cell_type": "markdown",
   "id": "646bc04c",
   "metadata": {},
   "source": [
    "#### Step 1: Select only necessary columns and rows"
   ]
  },
  {
   "cell_type": "code",
   "execution_count": 2,
   "id": "b5196b1f",
   "metadata": {},
   "outputs": [],
   "source": [
    "df_filtered = df.loc[:,['StatisticsProfileDate','CovidCasesConfirmed', 'HospitalisedCovidCases','Median_Age', \n",
    "                        'HospitalisedAged5', 'HospitalisedAged5to14','HospitalisedAged15to24', \n",
    "                        'HospitalisedAged25to34','HospitalisedAged35to44', 'HospitalisedAged45to54',\n",
    "                        'HospitalisedAged55to64','HospitalisedAged65to74','HospitalisedAged85up','HospitalisedAged75to84',\n",
    "                        'Aged1to4','Aged5to14', 'Aged15to24', 'Aged25to34', 'Aged35to44', \n",
    "                        'Aged45to54','Aged55to64','Aged65to74','Aged75to84', 'Aged85up']]\n",
    "\n",
    "end_date = '2021-12-22'\n",
    "df_filtered = df_filtered[df_filtered.StatisticsProfileDate < end_date]\n",
    "\n",
    "start_date = '2020-03-02'\n",
    "df_filtered = df_filtered[df_filtered.StatisticsProfileDate >= start_date]"
   ]
  },
  {
   "cell_type": "markdown",
   "id": "ce6041f6",
   "metadata": {},
   "source": [
    "#### Step 2. Clean data before transform to tidy data format"
   ]
  },
  {
   "cell_type": "code",
   "execution_count": 3,
   "id": "7cca0ad2",
   "metadata": {},
   "outputs": [],
   "source": [
    "df_final = df_filtered.copy().reset_index(drop=True)\n",
    "df_final = df_final.rename({'HospitalisedAged5':'HospitalisedAged1to4'}, axis = 'columns')"
   ]
  },
  {
   "cell_type": "markdown",
   "id": "d31e14fb",
   "metadata": {},
   "source": [
    "#### Step 3. Create two new columns storing Daily Confirmed Cases and Daily Hospitalised Cases"
   ]
  },
  {
   "cell_type": "code",
   "execution_count": 4,
   "id": "6ddb211f",
   "metadata": {},
   "outputs": [],
   "source": [
    "df_final[\"CovidCasesConfirmedByDay\"] = df_final[\"CovidCasesConfirmed\"].diff()\n",
    "df_final.loc[df_final[\"StatisticsProfileDate\"]== start_date,\"CovidCasesConfirmedByDay\"] = df_final.loc[df_final[\"StatisticsProfileDate\"]== start_date,\"CovidCasesConfirmed\"]\n",
    "\n",
    "df_final[\"HospitalisedCovidCasesByDay\"] = df_final[\"HospitalisedCovidCases\"].diff()\n",
    "df_final.loc[df_final[\"StatisticsProfileDate\"]== start_date,\"HospitalisedCovidCasesByDay\"] = df_final.loc[df_final[\"StatisticsProfileDate\"]== start_date,\"HospitalisedCovidCases\"]"
   ]
  },
  {
   "cell_type": "markdown",
   "id": "2fa92c3c",
   "metadata": {},
   "source": [
    "#### Step 4. Split the final dataset into two datasets, one for Hospitalised Cases and one for Confirmed Cases. Then, transform these datasets into tidy formats."
   ]
  },
  {
   "cell_type": "code",
   "execution_count": 5,
   "id": "8f24c754",
   "metadata": {},
   "outputs": [],
   "source": [
    "df_hospital = df_final.loc[:,['StatisticsProfileDate','CovidCasesConfirmed', 'CovidCasesConfirmedByDay',\n",
    "                              'HospitalisedCovidCases', 'HospitalisedCovidCasesByDay','Median_Age', \n",
    "                              'HospitalisedAged1to4', 'HospitalisedAged5to14',\n",
    "                              'HospitalisedAged15to24', 'HospitalisedAged25to34',\n",
    "                              'HospitalisedAged35to44', 'HospitalisedAged45to54',\n",
    "                              'HospitalisedAged55to64', 'HospitalisedAged65to74',\n",
    "                              'HospitalisedAged75to84', 'HospitalisedAged85up' ]]\n",
    "\n",
    "df_hospital.columns = df_hospital.columns.str.replace(\"HospitalisedAged\",\"\")\n",
    "\n",
    "id_vars = ['StatisticsProfileDate','CovidCasesConfirmed',  'CovidCasesConfirmedByDay', 'HospitalisedCovidCases', 'HospitalisedCovidCasesByDay','Median_Age']\n",
    "\n",
    "df_hos_melt = pd.melt(df_hospital, id_vars=id_vars,value_name=\"HospitalisedCases\",var_name=\"Age\")"
   ]
  },
  {
   "cell_type": "code",
   "execution_count": 6,
   "id": "daeb62b5",
   "metadata": {},
   "outputs": [],
   "source": [
    "df_case = df_final.loc[:,['StatisticsProfileDate','CovidCasesConfirmed', 'CovidCasesConfirmedByDay', 'HospitalisedCovidCases',  'HospitalisedCovidCasesByDay','Median_Age',\n",
    "                          'Aged1to4','Aged5to14', 'Aged15to24', 'Aged25to34', 'Aged35to44', \n",
    "                          'Aged45to54','Aged55to64',  'Aged65to74','Aged75to84', 'Aged85up' ]]\n",
    "\n",
    "df_case.columns = df_hospital.columns.str.replace(\"Aged\",\"\")\n",
    "\n",
    "id_vars = ['StatisticsProfileDate','CovidCasesConfirmed',  'CovidCasesConfirmedByDay', 'HospitalisedCovidCases', 'HospitalisedCovidCasesByDay','Median_Age']\n",
    "\n",
    "df_case_melt = pd.melt(df_case, id_vars=id_vars,value_name=\"Cases\",var_name=\"Age\")"
   ]
  },
  {
   "cell_type": "markdown",
   "id": "e01ae150",
   "metadata": {},
   "source": [
    "#### Step 5. Merge two tidy datasets"
   ]
  },
  {
   "cell_type": "code",
   "execution_count": 7,
   "id": "ac0f9a33",
   "metadata": {},
   "outputs": [],
   "source": [
    "df_melt = pd.merge(df_case_melt, df_hos_melt,how=\"inner\",on=['StatisticsProfileDate',\n",
    "       'CovidCasesConfirmed', 'CovidCasesConfirmedByDay', 'HospitalisedCovidCases', 'HospitalisedCovidCasesByDay','Median_Age','Age'])"
   ]
  },
  {
   "cell_type": "markdown",
   "id": "809fd62e",
   "metadata": {},
   "source": [
    "#### Step 6. The same idea as Step 3, but here, we need to create daily data column for each day for each age group because there is only cumulative data by date, "
   ]
  },
  {
   "cell_type": "code",
   "execution_count": 8,
   "id": "2d802cc9",
   "metadata": {},
   "outputs": [],
   "source": [
    "df_melt_1to4 = df_melt[df_melt.Age==\"1to4\"].copy()\n",
    "df_melt_5to14 = df_melt[df_melt.Age==\"5to14\"].copy()\n",
    "df_melt_15to24 = df_melt[df_melt.Age==\"15to24\"].copy()\n",
    "df_melt_25to34 = df_melt[df_melt.Age==\"25to34\"].copy()\n",
    "df_melt_35to44 = df_melt[df_melt.Age==\"35to44\"].copy()\n",
    "df_melt_45to54 = df_melt[df_melt.Age==\"45to54\"].copy()\n",
    "df_melt_55to64 = df_melt[df_melt.Age==\"55to64\"].copy()\n",
    "df_melt_65to74 = df_melt[df_melt.Age==\"65to74\"].copy()\n",
    "df_melt_75to84 = df_melt[df_melt.Age==\"75to84\"].copy()\n",
    "df_melt_85up = df_melt[df_melt.Age==\"85up\"].copy()"
   ]
  },
  {
   "cell_type": "code",
   "execution_count": 9,
   "id": "772c5a3a",
   "metadata": {},
   "outputs": [],
   "source": [
    "df_melt_1to4[\"CaseByDay\"] = df_melt_1to4[\"Cases\"].diff()\n",
    "df_melt_1to4[\"HospitalCaseByDay\"] = df_melt_1to4[\"HospitalisedCases\"].diff()\n",
    "\n",
    "df_melt_5to14[\"CaseByDay\"] = df_melt_5to14[\"Cases\"].diff()\n",
    "df_melt_5to14[\"HospitalCaseByDay\"] = df_melt_5to14[\"HospitalisedCases\"].diff()\n",
    "\n",
    "df_melt_15to24[\"CaseByDay\"] = df_melt_15to24[\"Cases\"].diff()\n",
    "df_melt_15to24[\"HospitalCaseByDay\"] = df_melt_15to24[\"HospitalisedCases\"].diff()\n",
    "\n",
    "df_melt_25to34[\"CaseByDay\"] = df_melt_25to34[\"Cases\"].diff()\n",
    "df_melt_25to34[\"HospitalCaseByDay\"] = df_melt_25to34[\"HospitalisedCases\"].diff()\n",
    "\n",
    "df_melt_35to44[\"CaseByDay\"] = df_melt_35to44[\"Cases\"].diff()\n",
    "df_melt_35to44[\"HospitalCaseByDay\"] = df_melt_35to44[\"HospitalisedCases\"].diff()\n",
    "\n",
    "df_melt_45to54[\"CaseByDay\"] = df_melt_45to54[\"Cases\"].diff()\n",
    "df_melt_45to54[\"HospitalCaseByDay\"] = df_melt_45to54[\"HospitalisedCases\"].diff()\n",
    "\n",
    "df_melt_55to64[\"CaseByDay\"] = df_melt_55to64[\"Cases\"].diff()\n",
    "df_melt_55to64[\"HospitalCaseByDay\"] = df_melt_55to64[\"HospitalisedCases\"].diff()\n",
    "\n",
    "df_melt_65to74[\"CaseByDay\"] = df_melt_65to74[\"Cases\"].diff()\n",
    "df_melt_65to74[\"HospitalCaseByDay\"] = df_melt_65to74[\"HospitalisedCases\"].diff()\n",
    "\n",
    "df_melt_75to84[\"CaseByDay\"] = df_melt_75to84[\"Cases\"].diff()\n",
    "df_melt_75to84[\"HospitalCaseByDay\"] = df_melt_75to84[\"HospitalisedCases\"].diff()\n",
    "\n",
    "df_melt_85up[\"CaseByDay\"] = df_melt_85up[\"Cases\"].diff()\n",
    "df_melt_85up[\"HospitalCaseByDay\"] = df_melt_85up[\"HospitalisedCases\"].diff()"
   ]
  },
  {
   "cell_type": "markdown",
   "id": "d51583ca",
   "metadata": {},
   "source": [
    "#### Step 7. Merge all above datasets again"
   ]
  },
  {
   "cell_type": "code",
   "execution_count": 10,
   "id": "1a60d0c8",
   "metadata": {},
   "outputs": [],
   "source": [
    "df_Covid = pd.concat([df_melt_1to4,df_melt_5to14,df_melt_15to24,df_melt_25to34,df_melt_35to44,df_melt_45to54,df_melt_55to64,df_melt_65to74,df_melt_75to84,df_melt_85up],ignore_index=True, sort=False)"
   ]
  },
  {
   "cell_type": "markdown",
   "id": "e07a7ce3",
   "metadata": {},
   "source": [
    "#### Step 8. Handling NaN values"
   ]
  },
  {
   "cell_type": "code",
   "execution_count": 11,
   "id": "4187f055",
   "metadata": {},
   "outputs": [],
   "source": [
    "df_Covid.loc[df_Covid[\"StatisticsProfileDate\"]== start_date,\"CaseByDay\"] = df_Covid.loc[df_Covid[\"StatisticsProfileDate\"]== start_date,\"Cases\"]\n",
    "\n",
    "df_Covid.loc[df_Covid[\"StatisticsProfileDate\"]== start_date,\"HospitalCaseByDay\"] = df_Covid.loc[df_Covid[\"StatisticsProfileDate\"]== start_date,\"HospitalisedCases\"]"
   ]
  },
  {
   "cell_type": "markdown",
   "id": "33f7f94b",
   "metadata": {},
   "source": [
    "#### Step 9. Export to csv file"
   ]
  },
  {
   "cell_type": "code",
   "execution_count": 12,
   "id": "86d272eb",
   "metadata": {},
   "outputs": [],
   "source": [
    "df_Covid.to_csv(\"Covid_Tan.csv\", index=False)"
   ]
  }
 ],
 "metadata": {
  "kernelspec": {
   "display_name": "Python 3 (ipykernel)",
   "language": "python",
   "name": "python3"
  },
  "language_info": {
   "codemirror_mode": {
    "name": "ipython",
    "version": 3
   },
   "file_extension": ".py",
   "mimetype": "text/x-python",
   "name": "python",
   "nbconvert_exporter": "python",
   "pygments_lexer": "ipython3",
   "version": "3.9.7"
  }
 },
 "nbformat": 4,
 "nbformat_minor": 5
}
